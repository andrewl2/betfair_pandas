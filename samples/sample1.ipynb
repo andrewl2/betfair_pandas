{
 "metadata": {
  "name": "",
  "signature": "sha256:5c162a69814e1992611ec50a45d1df062706d4b2e52fa27f55f951345a0bc1a9"
 },
 "nbformat": 3,
 "nbformat_minor": 0,
 "worksheets": [
  {
   "cells": [
    {
     "cell_type": "code",
     "collapsed": false,
     "input": [
      "from betfair.models import MarketFilter\n",
      "from betfair import Betfair"
     ],
     "language": "python",
     "metadata": {},
     "outputs": [],
     "prompt_number": 1
    },
    {
     "cell_type": "code",
     "collapsed": false,
     "input": [
      "import betfair_pandas as bp\n",
      "import datetime\n",
      "import dateutil\n",
      "import pandas as pd"
     ],
     "language": "python",
     "metadata": {},
     "outputs": [],
     "prompt_number": 2
    },
    {
     "cell_type": "code",
     "collapsed": false,
     "input": [
      "# ssologin\n",
      "# To use this you will need app_key,cert_file,username,password\n",
      "client=Betfair(app_key,cert_file)\n",
      "client.login(username,password)"
     ],
     "language": "python",
     "metadata": {},
     "outputs": [],
     "prompt_number": 4
    },
    {
     "cell_type": "code",
     "collapsed": false,
     "input": [
      "# List horse racing event ids\n",
      "event_types=bp.list_event_types(client,filter={'textQuery':\"Horse Racing\"})"
     ],
     "language": "python",
     "metadata": {},
     "outputs": [],
     "prompt_number": 5
    },
    {
     "cell_type": "code",
     "collapsed": false,
     "input": [
      "country_code='GB'\n",
      "marketFilter={'eventTypeIds':[event_types.id[0]],\n",
      "              'marketCountries':[country_code],\n",
      "              'marketTypeCodes':[\"WIN\"],\n",
      "              'marketStartTime':{'from':datetime.datetime.now()}}"
     ],
     "language": "python",
     "metadata": {},
     "outputs": [],
     "prompt_number": 6
    },
    {
     "cell_type": "code",
     "collapsed": false,
     "input": [
      "# First 5 horse races, win market, from now\n",
      "races=bp.list_market_catalogue(client,\n",
      "  filter=marketFilter,\n",
      "  market_projection=['COMPETITION','EVENT','EVENT_TYPE','MARKET_DESCRIPTION',\n",
      "                     'RUNNER_DESCRIPTION','MARKET_START_TIME'],\n",
      "  sort=\"FIRST_TO_START\",\n",
      "  max_results=5\n",
      ")"
     ],
     "language": "python",
     "metadata": {},
     "outputs": [],
     "prompt_number": 7
    },
    {
     "cell_type": "code",
     "collapsed": false,
     "input": [
      "# Get a summary set of columns for winHorseRacing from description\n",
      "summaryDesc=races['description'][['marketId','marketName','event.venue',\n",
      "                                  'event.name','marketStartTime']]\n",
      "# Get a summary set of the runners names\n",
      "summaryRunners=races['runners'][['marketId','selectionId','runnerName']]\n",
      "# Join the 2 together baes on the marketId to show summary of the runners in the races together\n",
      "summaryRaces=pd.merge(summaryDesc,summaryRunners,on='marketId')"
     ],
     "language": "python",
     "metadata": {},
     "outputs": [],
     "prompt_number": 8
    },
    {
     "cell_type": "code",
     "collapsed": false,
     "input": [
      "summaryDesc.groupby(['marketStartTime','event.venue'])\n",
      "print('Races:')\n",
      "for name, group in summaryDesc.groupby(['marketStartTime','event.venue']):\n",
      "    print(\"{0:s} {1:s} {2:s} {3:%I:%M%p}\".format(group.values[0][1],\n",
      "                                                            group.values[0][2],\n",
      "                                                            group.values[0][3],\n",
      "                                                            dateutil.parser.parse(group.values[0][4])\n",
      "                                                            ))"
     ],
     "language": "python",
     "metadata": {},
     "outputs": [
      {
       "output_type": "stream",
       "stream": "stdout",
       "text": [
        "Races:\n",
        "2m Hcap Chs Fakenham Fake 18th Nov 03:30PM\n",
        "7f Hcap Southwell Sthl 18th Nov 03:40PM\n",
        "2m NHF Doncaster Donc 18th Nov 03:50PM\n",
        "1m Nursery Lingfield Ling 19th Nov 12:00PM\n",
        "2m Mdn Hrd Hexham Hex 19th Nov 12:20PM\n"
       ]
      }
     ],
     "prompt_number": 9
    },
    {
     "cell_type": "code",
     "collapsed": false,
     "input": [
      "# First race\n",
      "marketId=races['description'].marketId[0]"
     ],
     "language": "python",
     "metadata": {},
     "outputs": [],
     "prompt_number": 10
    },
    {
     "cell_type": "code",
     "collapsed": false,
     "input": [
      "# First race summary\n",
      "firstRaceDesc=summaryDesc.query('marketId==\"'+marketId+'\"')[['marketId','marketName',\n",
      "                                                     'event.name','event.venue','marketStartTime']]\n",
      "firstRaceRunners=summaryRaces.query('marketId==\"'+marketId+'\"')[['selectionId','runnerName']]\n",
      "print(firstRaceDesc)\n",
      "print(firstRaceRunners)"
     ],
     "language": "python",
     "metadata": {},
     "outputs": [
      {
       "output_type": "stream",
       "stream": "stdout",
       "text": [
        "      marketId   marketName     event.name event.venue  \\\n",
        "0  1.116413138  2m Hcap Chs  Fake 18th Nov    Fakenham   \n",
        "\n",
        "            marketStartTime  \n",
        "0  2014-11-18T15:30:00.000Z  \n",
        "   selectionId     runnerName\n",
        "0      5718959      Carobello\n",
        "1      7572682        Larteta\n",
        "2      4363561   Dynamic Idol\n",
        "3      4815491  Full Ov Beans\n"
       ]
      }
     ],
     "prompt_number": 11
    },
    {
     "cell_type": "code",
     "collapsed": false,
     "input": [
      "# All exchange and starting prices to a depth of 2 max price of 20\n",
      "projection={'priceData':['EX_BEST_OFFERS','SP_AVAILABLE','SP_TRADED'],\n",
      "            'virtualise':False,\n",
      "            'exBestOffersOverrides':{'bestPricesDepth':5L,\n",
      "                                     'rollupModel':\"STAKE\",\n",
      "                                     'rollupLimit':20L},\n",
      "            'rolloverStakes':False\n",
      " }"
     ],
     "language": "python",
     "metadata": {},
     "outputs": [],
     "prompt_number": 12
    },
    {
     "cell_type": "code",
     "collapsed": false,
     "input": [
      "# Get all the runners/prices book for this market\n",
      "# According to the projections\n",
      "runnersPriceInFirstRace=bp.list_market_book(client,\n",
      "  market_ids=[marketId],\n",
      "  price_projection=projection,\n",
      "  order_projection='ALL',\n",
      "  match_projection='ROLLED_UP_BY_PRICE'\n",
      ")\n",
      "# Note the book time\n",
      "priceTime=datetime.datetime.now()"
     ],
     "language": "python",
     "metadata": {},
     "outputs": [],
     "prompt_number": 13
    },
    {
     "cell_type": "code",
     "collapsed": false,
     "input": [
      "print(runnersPriceInFirstRace['market.book'][['marketId','lastMatchTime',\n",
      "                                              'totalAvailable','totalMatched',\n",
      "                                              'numberOfActiveRunners']])"
     ],
     "language": "python",
     "metadata": {},
     "outputs": [
      {
       "output_type": "stream",
       "stream": "stdout",
       "text": [
        "      marketId             lastMatchTime  totalAvailable  totalMatched  \\\n",
        "0  1.116413138  2014-11-18T15:27:04.235Z       102182.84     191392.47   \n",
        "\n",
        "   numberOfActiveRunners  \n",
        "0                      4  \n"
       ]
      }
     ],
     "prompt_number": 14
    },
    {
     "cell_type": "code",
     "collapsed": false,
     "input": [
      "runnerWithMostTotalMatched=runnersPriceInFirstRace['runners'].sort('totalMatched',ascending=False)"
     ],
     "language": "python",
     "metadata": {},
     "outputs": [],
     "prompt_number": 16
    },
    {
     "cell_type": "code",
     "collapsed": false,
     "input": [
      "# This is one particular runner\n",
      "runnerIdWithMostTotalMatched=runnerWithMostTotalMatched.ix[0,'selectionId']"
     ],
     "language": "python",
     "metadata": {},
     "outputs": [],
     "prompt_number": 17
    },
    {
     "cell_type": "code",
     "collapsed": false,
     "input": [
      "# Getthe overview price and volume for this selection\n",
      "runners=runnersPriceInFirstRace['runners']\n",
      "overview=runners[runners.selectionId==runnerIdWithMostTotalMatched]"
     ],
     "language": "python",
     "metadata": {},
     "outputs": [],
     "prompt_number": 18
    },
    {
     "cell_type": "code",
     "collapsed": false,
     "input": [
      "# Show the overview price and volume for this selected runner\n",
      "runnerOverview=pd.merge(overview,summaryRaces[['selectionId','marketId','runnerName']],\n",
      "                        on=['selectionId','marketId'])"
     ],
     "language": "python",
     "metadata": {},
     "outputs": [],
     "prompt_number": 19
    },
    {
     "cell_type": "code",
     "collapsed": false,
     "input": [
      "allsp=runnersPriceInFirstRace['runners.sp']\n",
      "sp=allsp[allsp.selectionId==runnerIdWithMostTotalMatched]"
     ],
     "language": "python",
     "metadata": {},
     "outputs": [],
     "prompt_number": 20
    },
    {
     "cell_type": "code",
     "collapsed": false,
     "input": [
      "# Show starting price summary\n",
      "print(sp)"
     ],
     "language": "python",
     "metadata": {},
     "outputs": [
      {
       "output_type": "stream",
       "stream": "stdout",
       "text": [
        "   farPrice     marketId  nearPrice  selectionId\n",
        "0      2.32  1.116413138          3      5718959\n"
       ]
      }
     ],
     "prompt_number": 21
    },
    {
     "cell_type": "code",
     "collapsed": false,
     "input": [
      "# Show back stake taken\n",
      "backStakeTaken=runnersPriceInFirstRace['runners.sp.backStakeTaken']\n",
      "print(backStakeTaken[backStakeTaken.selectionId==runnerIdWithMostTotalMatched])"
     ],
     "language": "python",
     "metadata": {},
     "outputs": [
      {
       "output_type": "stream",
       "stream": "stdout",
       "text": [
        "      marketId  price  selectionId    size\n",
        "0  1.116413138   1.01      5718959  891.27\n",
        "1  1.116413138   1.80      5718959  186.34\n",
        "2  1.116413138   3.00      5718959  980.99\n",
        "3  1.116413138   3.45      5718959  498.04\n",
        "4  1.116413138   6.00      5718959    5.00\n"
       ]
      }
     ],
     "prompt_number": 22
    },
    {
     "cell_type": "code",
     "collapsed": false,
     "input": [
      "# Show lay liabilty taken\n",
      "layLiabilityTaken=runnersPriceInFirstRace['runners.sp.layLiabilityTaken']\n",
      "print(layLiabilityTaken[layLiabilityTaken.selectionId==runnerIdWithMostTotalMatched])"
     ],
     "language": "python",
     "metadata": {},
     "outputs": [
      {
       "output_type": "stream",
       "stream": "stdout",
       "text": [
        "      marketId    price  selectionId    size\n",
        "0  1.116413138  1000.00      5718959  823.10\n",
        "1  1.116413138     3.20      5718959   15.95\n",
        "2  1.116413138     2.32      5718959  967.62\n"
       ]
      }
     ],
     "prompt_number": 23
    },
    {
     "cell_type": "code",
     "collapsed": false,
     "input": [
      "# Get all lay prices for all the runners in the first race\n",
      "availableToLay=runnersPriceInFirstRace['runners.ex.availableToLay']\n",
      "# Get the lay prices for the one with the most total matched\n",
      "runnerIdWithMostTotalMatchedLayPrices=availableToLay[availableToLay.selectionId == runnerIdWithMostTotalMatched]\n",
      "# Rename to TotalAvailableToLay\n",
      "runnerIdWithMostTotalMatchedLayPrices=runnerIdWithMostTotalMatchedLayPrices.rename(\n",
      "columns={'size': 'LayTotal','price':'LayPrice'})"
     ],
     "language": "python",
     "metadata": {},
     "outputs": [],
     "prompt_number": 24
    },
    {
     "cell_type": "code",
     "collapsed": false,
     "input": [
      "# Get all back prices for all the runners in the first race\n",
      "availableToBack=runnersPriceInFirstRace['runners.ex.availableToBack']\n",
      "# Get the back prices for the one with the most total matched\n",
      "runnerIdWithMostTotalMatchedBackPrices=availableToBack[availableToBack.selectionId == runnerIdWithMostTotalMatched]\n",
      "# Rename to TotalAvailableToBack\n",
      "runnerIdWithMostTotalMatchedBackPrices=runnerIdWithMostTotalMatchedBackPrices.rename(\n",
      "columns={'size': 'BackTotal', 'price':'BackPrice'})"
     ],
     "language": "python",
     "metadata": {},
     "outputs": [],
     "prompt_number": 25
    },
    {
     "cell_type": "code",
     "collapsed": false,
     "input": [
      "# Merge the prices by appending to make a price ladder\n",
      "priceLadder=runnerIdWithMostTotalMatchedBackPrices[['BackTotal','BackPrice']].join(\n",
      "runnerIdWithMostTotalMatchedLayPrices[['LayPrice','LayTotal']])\n",
      "print(\"Market:{0:s} {1:s} {2:s} {3:%I:%M%p}\".format(firstRaceDesc['marketName'][0],\n",
      "                                             firstRaceDesc['event.name'][0],\n",
      "                                             firstRaceDesc['event.venue'][0],\n",
      "                                             dateutil.parser.parse(firstRaceDesc['marketStartTime'][0]))\n",
      ")\n",
      "print(\"Runner:{0:s} Total {1:f} \".format(runnerOverview['runnerName'][0],\n",
      "                                             runnerOverview['totalMatched'][0]))\n",
      "print('Book at {0:s}'.format(priceTime.isoformat(' ')))\n",
      "print(priceLadder)"
     ],
     "language": "python",
     "metadata": {},
     "outputs": [
      {
       "output_type": "stream",
       "stream": "stdout",
       "text": [
        "Market:2m Hcap Chs Fake 18th Nov Fakenham 03:30PM\n",
        "Runner:Carobello Total 111261.690000 \n",
        "Book at 2014-11-18 15:27:04.563642\n",
        "   BackTotal  BackPrice  LayPrice  LayTotal\n",
        "0    1075.11       3.00      3.05    625.80\n",
        "1     458.76       2.98      3.10    538.69\n",
        "2    1314.45       2.96      3.15    350.37\n",
        "3    1383.35       2.94      3.20    491.22\n",
        "4     524.50       2.92      3.25    651.02\n"
       ]
      }
     ],
     "prompt_number": 26
    },
    {
     "cell_type": "code",
     "collapsed": false,
     "input": [
      "client.logout()"
     ],
     "language": "python",
     "metadata": {},
     "outputs": [],
     "prompt_number": 27
    }
   ],
   "metadata": {}
  }
 ]
}